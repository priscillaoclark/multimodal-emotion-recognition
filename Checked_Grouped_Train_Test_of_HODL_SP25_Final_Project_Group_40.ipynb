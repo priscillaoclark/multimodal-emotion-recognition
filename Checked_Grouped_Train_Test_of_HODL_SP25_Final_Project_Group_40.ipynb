{
  "nbformat": 4,
  "nbformat_minor": 0,
  "metadata": {
    "colab": {
      "provenance": [],
      "machine_shape": "hm",
      "gpuType": "A100",
      "include_colab_link": true
    },
    "kernelspec": {
      "name": "python3",
      "display_name": "Python 3"
    },
    "language_info": {
      "name": "python"
    },
    "accelerator": "GPU"
  },
  "cells": [
    {
      "cell_type": "markdown",
      "metadata": {
        "id": "view-in-github",
        "colab_type": "text"
      },
      "source": [
        "<a href=\"https://colab.research.google.com/github/priscillaoclark/multimodal-emotion-recognition/blob/main/Checked_Grouped_Train_Test_of_HODL_SP25_Final_Project_Group_40.ipynb\" target=\"_parent\"><img src=\"https://colab.research.google.com/assets/colab-badge.svg\" alt=\"Open In Colab\"/></a>"
      ]
    },
    {
      "cell_type": "markdown",
      "source": [
        "# **15.773 Final Project: Multimodal Emotion Classification Using Deep Learning**"
      ],
      "metadata": {
        "id": "_a5wc8H20G9M"
      }
    },
    {
      "cell_type": "markdown",
      "source": [
        "**Group 40**:                  \t               Prashasti Agrawal, Priscilla Clark, Yoav Marziano, Siddharth Mehta\n"
      ],
      "metadata": {
        "id": "iDP9NsbK0I9r"
      }
    },
    {
      "cell_type": "markdown",
      "source": [
        "**Problem**: Emotion recognition from speech is a critical component of human-computer interaction. Businesses rely on this technology to detect sentiment in call center interactions, support mental health monitoring, and predict stock price movements based on company earnings calls. However, despite advancements in deep learning, current unimodal models (audio-only or text-only) fail to capture the full spectrum of emotional expression. This project aims to use state-of-the-art deep learning techniques (transformers, transfer learning) to develop a multimodal emotion classification model that integrates audio (vocal tone) and text (transcribed speech)."
      ],
      "metadata": {
        "id": "ZK15J_KI0RX9"
      }
    },
    {
      "cell_type": "markdown",
      "source": [
        "# **PART 2: Upload CSV and run models**"
      ],
      "metadata": {
        "id": "ttYSIvgFb21t"
      }
    },
    {
      "cell_type": "markdown",
      "source": [
        "## **Step 6:** Import saved CSV (OK to start here)"
      ],
      "metadata": {
        "id": "k7jRex1WUP2O"
      }
    },
    {
      "cell_type": "markdown",
      "source": [
        "#### Redo imports to allow starting from here"
      ],
      "metadata": {
        "id": "ztEB8XtDUtxO"
      }
    },
    {
      "cell_type": "code",
      "source": [
        "# Install required packages\n",
        "!pip install -q tensorflow pandas matplotlib scikit-learn"
      ],
      "metadata": {
        "id": "-oG2khVlWK9N"
      },
      "execution_count": null,
      "outputs": []
    },
    {
      "cell_type": "code",
      "source": [
        "# Import libraries\n",
        "import numpy as np\n",
        "import pandas as pd\n",
        "import matplotlib.pyplot as plt\n",
        "import tensorflow as tf\n",
        "from tensorflow.keras.models import Model\n",
        "from tensorflow.keras.layers import Input, Dense, Dropout, Concatenate, BatchNormalization\n",
        "from tensorflow.keras.callbacks import EarlyStopping, ReduceLROnPlateau\n",
        "from sklearn.model_selection import train_test_split\n",
        "import tensorflow.keras.backend as K\n",
        "import os\n",
        "from tensorflow.keras.regularizers import l2\n",
        "import keras"
      ],
      "metadata": {
        "id": "-oWmpT-TZ9fA"
      },
      "execution_count": null,
      "outputs": []
    },
    {
      "cell_type": "code",
      "source": [
        "# Configure GPU for TensorFlow (if available)\n",
        "gpus = tf.config.list_physical_devices('GPU')\n",
        "if gpus:\n",
        "    try:\n",
        "        print(f\"Found {len(gpus)} GPUs\")\n",
        "        for gpu in gpus:\n",
        "            tf.config.experimental.set_memory_growth(gpu, True)\n",
        "        print(\"Memory growth enabled for all GPUs\")\n",
        "    except RuntimeError as e:\n",
        "        print(f\"Error configuring GPUs: {e}\")"
      ],
      "metadata": {
        "colab": {
          "base_uri": "https://localhost:8080/"
        },
        "id": "1FMwlSN1dAmq",
        "outputId": "e3d98a5f-75a2-4741-dcc0-7bb05f3060f2"
      },
      "execution_count": null,
      "outputs": [
        {
          "output_type": "stream",
          "name": "stdout",
          "text": [
            "Found 1 GPUs\n",
            "Memory growth enabled for all GPUs\n"
          ]
        }
      ]
    },
    {
      "cell_type": "markdown",
      "source": [
        "**IMPORTANT:** Upload file at location below.\n",
        "\n",
        "https://drive.google.com/file/d/1lA2r39Pm3d97EfY0w9DThBGRRw5uJUpq/view?usp=sharing"
      ],
      "metadata": {
        "id": "z7GRshNAdOgY"
      }
    },
    {
      "cell_type": "markdown",
      "source": [
        "#### Prepare features"
      ],
      "metadata": {
        "id": "ix1VlD_uXvk-"
      }
    },
    {
      "cell_type": "code",
      "source": [
        "# Helper function to parse array strings from CSV\n",
        "def parse_array(arr_string):\n",
        "    \"\"\"Convert string representation of arrays back to numpy arrays\"\"\"\n",
        "    try:\n",
        "        if isinstance(arr_string, str):\n",
        "            # Remove brackets and split by comma\n",
        "            arr_string = arr_string.strip('[]')\n",
        "            return np.array([float(x) for x in arr_string.split(',')])\n",
        "        else:\n",
        "            # If already an array, return as is\n",
        "            return arr_string\n",
        "    except:\n",
        "        # Return zeros if parsing fails (assuming 768 is the embedding size)\n",
        "        return np.zeros(768)\n",
        "\n",
        "# Load features from CSV file\n",
        "def load_features(csv_path):\n",
        "    \"\"\"Load and prepare features from CSV file\"\"\"\n",
        "    print(f\"Loading features from {csv_path}...\")\n",
        "    features_df = pd.read_csv(csv_path)\n",
        "\n",
        "    print(f\"Loaded {len(features_df)} samples with {len(features_df.columns)} features\")\n",
        "\n",
        "    # Fill NaN values in numeric columns with mean values\n",
        "    numeric_cols = features_df.select_dtypes(include=[np.number]).columns\n",
        "    features_df[numeric_cols] = features_df[numeric_cols].fillna(features_df[numeric_cols].mean())\n",
        "\n",
        "    # Parse array columns from string to numpy arrays\n",
        "    print(\"Parsing vector features...\")\n",
        "    array_columns = [\"text_embeddings\", \"wav2vec_embeddings\", \"hubert_embeddings\", \"mfccs\", \"chroma\", \"formants\"]\n",
        "    for col in array_columns:\n",
        "        if col in features_df.columns:\n",
        "            print(f\"Converting {col} to arrays...\")\n",
        "            features_df[col] = features_df[col].apply(parse_array)\n",
        "\n",
        "    return features_df\n",
        "\n",
        "# Extract features from dataframe\n",
        "def prepare_feature_arrays(df):\n",
        "    \"\"\"Extract and organize feature arrays from the dataframe\"\"\"\n",
        "    # Extract embeddings\n",
        "    if \"wav2vec_embeddings\" in df.columns:\n",
        "        wav2vec_embeddings = np.stack(df[\"wav2vec_embeddings\"].values)\n",
        "        print(f\"wav2vec shape: {wav2vec_embeddings.shape}\")\n",
        "    else:\n",
        "        wav2vec_embeddings = np.zeros((len(df), 768))\n",
        "        print(\"wav2vec_embeddings not found, using zeros\")\n",
        "\n",
        "    if \"hubert_embeddings\" in df.columns:\n",
        "        hubert_embeddings = np.stack(df[\"hubert_embeddings\"].values)\n",
        "        print(f\"hubert shape: {hubert_embeddings.shape}\")\n",
        "    else:\n",
        "        hubert_embeddings = np.zeros((len(df), 768))\n",
        "        print(\"hubert_embeddings not found, using zeros\")\n",
        "\n",
        "    if \"text_embeddings\" in df.columns:\n",
        "        text_embeddings = np.stack(df[\"text_embeddings\"].values)\n",
        "        print(f\"text shape: {text_embeddings.shape}\")\n",
        "    else:\n",
        "        text_embeddings = np.zeros((len(df), 768))\n",
        "        print(\"text_embeddings not found, using zeros\")\n",
        "\n",
        "    if \"mfccs\" in df.columns:\n",
        "        mfccs = np.stack(df[\"mfccs\"].values)\n",
        "        print(f\"mfccs shape: {mfccs.shape}\")\n",
        "    else:\n",
        "        mfccs = np.zeros((len(df), 40))\n",
        "        print(\"mfccs not found, using zeros\")\n",
        "\n",
        "    if \"chroma\" in df.columns:\n",
        "        chroma = np.stack(df[\"chroma\"].values)\n",
        "        print(f\"chroma shape: {chroma.shape}\")\n",
        "    else:\n",
        "        chroma = np.zeros((len(df), 12))\n",
        "        print(\"chroma not found, using zeros\")\n",
        "\n",
        "    # Extract scalar audio features\n",
        "    scalar_features = [\"spectral_centroid\", \"spectral_rolloff\", \"zero_crossing_rate\",\n",
        "                       \"pitch_mean\", \"hnr\", \"jitter\", \"shimmer\", \"speech_rate\"]\n",
        "\n",
        "    available_scalar_features = [f for f in scalar_features if f in df.columns]\n",
        "\n",
        "    if available_scalar_features:\n",
        "        other_audio = df[available_scalar_features]\n",
        "        other_audio = np.array(other_audio)\n",
        "        print(f\"scalar features shape: {other_audio.shape}\")\n",
        "    else:\n",
        "        other_audio = np.zeros((len(df), 1))\n",
        "        print(\"No scalar features found, using zeros\")\n",
        "\n",
        "    # Create fused feature sets\n",
        "    # 1. Concatenate non-embedding features\n",
        "    fused_features_nonembeddings = np.concatenate((mfccs, chroma, other_audio), axis=1)\n",
        "    print(f\"fused nonembeddings shape: {fused_features_nonembeddings.shape}\")\n",
        "\n",
        "    # 2. Concatenate non-embedding features + audio embeddings\n",
        "    fused_features_audio = np.concatenate((wav2vec_embeddings, hubert_embeddings, mfccs, chroma, other_audio), axis=1)\n",
        "    print(f\"fused audio shape: {fused_features_audio.shape}\")\n",
        "\n",
        "    # 3. Concatenate all features\n",
        "    fused_features_all = np.concatenate((wav2vec_embeddings, hubert_embeddings, text_embeddings, mfccs, chroma, other_audio), axis=1)\n",
        "    print(f\"fused all shape: {fused_features_all.shape}\")\n",
        "\n",
        "    # Clean up NaN values in fused features\n",
        "    for feature_set in [fused_features_nonembeddings, fused_features_audio, fused_features_all]:\n",
        "        nan_count = np.isnan(feature_set).sum()\n",
        "        if nan_count > 0:\n",
        "            print(f\"Found {nan_count} NaN values, replacing with column means\")\n",
        "            col_means = np.nanmean(feature_set, axis=0)\n",
        "            inds = np.where(np.isnan(feature_set))\n",
        "            feature_set[inds] = np.take(col_means, inds[1])\n",
        "\n",
        "    return {\n",
        "        \"wav2vec_embeddings\": wav2vec_embeddings,\n",
        "        \"hubert_embeddings\": hubert_embeddings,\n",
        "        \"text_embeddings\": text_embeddings,\n",
        "        \"mfccs\": mfccs,\n",
        "        \"chroma\": chroma,\n",
        "        \"other_audio\": other_audio,\n",
        "        \"fused_features_nonembeddings\": fused_features_nonembeddings,\n",
        "        \"fused_features_audio\": fused_features_audio,\n",
        "        \"fused_features_all\": fused_features_all\n",
        "    }"
      ],
      "metadata": {
        "id": "DNuE6yNkW50I"
      },
      "execution_count": null,
      "outputs": []
    },
    {
      "cell_type": "code",
      "source": [
        "    csv_path = \"features_complete.csv\"\n",
        "\n",
        "    # Load features\n",
        "    features_df = load_features(csv_path)\n",
        "\n",
        "    # Prepare feature arrays\n",
        "    features_dict = prepare_feature_arrays(features_df)\n",
        "    features_dict"
      ],
      "metadata": {
        "colab": {
          "base_uri": "https://localhost:8080/"
        },
        "id": "KQTTsbK8W6Zt",
        "outputId": "f43f7fab-3a52-4d19-ba52-ec19179a3f59"
      },
      "execution_count": null,
      "outputs": [
        {
          "output_type": "stream",
          "name": "stdout",
          "text": [
            "Loading features from features_complete.csv...\n",
            "Loaded 8480 samples with 17 features\n",
            "Parsing vector features...\n",
            "Converting text_embeddings to arrays...\n",
            "Converting wav2vec_embeddings to arrays...\n",
            "Converting hubert_embeddings to arrays...\n",
            "Converting mfccs to arrays...\n",
            "Converting chroma to arrays...\n",
            "Converting formants to arrays...\n",
            "wav2vec shape: (8480, 768)\n",
            "hubert shape: (8480, 768)\n",
            "text shape: (8480, 768)\n",
            "mfccs shape: (8480, 40)\n",
            "chroma shape: (8480, 12)\n",
            "scalar features shape: (8480, 8)\n",
            "fused nonembeddings shape: (8480, 60)\n",
            "fused audio shape: (8480, 1596)\n",
            "fused all shape: (8480, 2364)\n"
          ]
        },
        {
          "output_type": "execute_result",
          "data": {
            "text/plain": [
              "{'wav2vec_embeddings': array([[-45.81075287, -48.23505402, -47.74915314, ...,   0.        ,\n",
              "           0.        ,   0.        ],\n",
              "        [-46.85514069, -52.89336777, -54.46282959, ...,   0.        ,\n",
              "           0.        ,   0.        ],\n",
              "        [-43.74618149, -49.62265778, -48.11420441, ...,   0.        ,\n",
              "           0.        ,   0.        ],\n",
              "        ...,\n",
              "        [-37.09547424, -52.00594711, -60.92287827, ...,   0.        ,\n",
              "           0.        ,   0.        ],\n",
              "        [-32.32276535, -47.73503494, -59.49338913, ...,   0.        ,\n",
              "           0.        ,   0.        ],\n",
              "        [-35.45469666, -48.60761642, -61.98173904, ...,   0.        ,\n",
              "           0.        ,   0.        ]]),\n",
              " 'hubert_embeddings': array([[-6.64799927e+02,  6.41520615e+01,  2.44770584e+01, ...,\n",
              "          0.00000000e+00,  0.00000000e+00,  0.00000000e+00],\n",
              "        [-5.23537537e+02,  5.68009987e+01,  8.19234943e+00, ...,\n",
              "          0.00000000e+00,  0.00000000e+00,  0.00000000e+00],\n",
              "        [-7.08825439e+02,  6.40723877e+01,  2.21730251e+01, ...,\n",
              "          0.00000000e+00,  0.00000000e+00,  0.00000000e+00],\n",
              "        ...,\n",
              "        [-3.85160950e+02,  5.79414330e+01, -8.74945000e-02, ...,\n",
              "          0.00000000e+00,  0.00000000e+00,  0.00000000e+00],\n",
              "        [-4.23848694e+02,  6.67486343e+01,  1.10433877e+00, ...,\n",
              "          0.00000000e+00,  0.00000000e+00,  0.00000000e+00],\n",
              "        [-4.10806213e+02,  4.21778603e+01,  4.07568407e+00, ...,\n",
              "          0.00000000e+00,  0.00000000e+00,  0.00000000e+00]]),\n",
              " 'text_embeddings': array([[-0.13671529,  0.11276135, -0.0218573 , ..., -0.07668806,\n",
              "         -0.05561322, -0.0160603 ],\n",
              "        [-0.11297829,  0.11565367, -0.02334592, ..., -0.08608179,\n",
              "         -0.07879122, -0.02657353],\n",
              "        [-0.11297829,  0.11565367, -0.02334592, ..., -0.08608179,\n",
              "         -0.07879122, -0.02657353],\n",
              "        ...,\n",
              "        [-0.0644609 ,  0.08229905, -0.02167348, ..., -0.06795513,\n",
              "         -0.03706588, -0.03020003],\n",
              "        [-0.10289991,  0.09590659, -0.00315518, ..., -0.06632965,\n",
              "         -0.03828454, -0.05961298],\n",
              "        [-0.08162892,  0.10647175, -0.02648816, ..., -0.08411276,\n",
              "         -0.03983649, -0.05922757]]),\n",
              " 'mfccs': array([[-6.64799927e+02,  6.41520615e+01,  2.44770584e+01, ...,\n",
              "         -1.45756090e+00, -2.71910501e+00, -1.16220438e+00],\n",
              "        [-5.23537537e+02,  5.68009987e+01,  8.19234943e+00, ...,\n",
              "          2.74140596e+00, -1.88575745e+00,  8.07109654e-01],\n",
              "        [-7.08825439e+02,  6.40723877e+01,  2.21730251e+01, ...,\n",
              "         -2.03591108e-01, -1.72902310e+00, -2.34020054e-01],\n",
              "        ...,\n",
              "        [-3.85160950e+02,  5.79414330e+01, -8.74945000e-02, ...,\n",
              "          1.10816965e+01,  1.06037436e+01,  1.17230387e+01],\n",
              "        [-4.23848694e+02,  6.67486343e+01,  1.10433877e+00, ...,\n",
              "         -1.71543682e+00, -2.56018043e+00,  1.01343179e+00],\n",
              "        [-4.10806213e+02,  4.21778603e+01,  4.07568407e+00, ...,\n",
              "          1.76808178e+00,  1.83717608e+00,  1.25712323e+00]]),\n",
              " 'chroma': array([[0.39190146, 0.43357891, 0.3972047 , ..., 0.62615323, 0.53154296,\n",
              "         0.4716613 ],\n",
              "        [0.36074391, 0.51785171, 0.57926422, ..., 0.46521118, 0.45731658,\n",
              "         0.37240836],\n",
              "        [0.49471274, 0.50639862, 0.45958179, ..., 0.55315977, 0.54798257,\n",
              "         0.53288442],\n",
              "        ...,\n",
              "        [0.17852861, 0.2139495 , 0.3086172 , ..., 0.14606716, 0.35436738,\n",
              "         0.28451073],\n",
              "        [0.408593  , 0.61277127, 0.43412569, ..., 0.3045001 , 0.32931113,\n",
              "         0.34615582],\n",
              "        [0.70760161, 0.49166435, 0.30437806, ..., 0.14019838, 0.2085465 ,\n",
              "         0.37264752]]),\n",
              " 'other_audio': array([[1.97155463e+03, 4.15924202e+03, 2.02797748e-01, ...,\n",
              "         4.34754092e+01, 2.21980899e-03, 6.66666667e-01],\n",
              "        [2.05899129e+03, 4.24900266e+03, 1.83147025e-01, ...,\n",
              "         1.41649555e+01, 3.07551655e-03, 6.66666667e-01],\n",
              "        [1.83237982e+03, 4.07081117e+03, 1.77001953e-01, ...,\n",
              "         1.27592836e+02, 8.16644460e-04, 6.66666667e-01],\n",
              "        ...,\n",
              "        [1.77944604e+03, 3.00017756e+03, 1.26642401e-01, ...,\n",
              "         1.79945376e+01, 9.85345989e-03, 6.66666667e-01],\n",
              "        [1.70289240e+03, 2.81420455e+03, 1.15074574e-01, ...,\n",
              "         2.41517908e+01, 6.63613062e-03, 6.66666667e-01],\n",
              "        [2.08198619e+03, 3.66562500e+03, 1.51298828e-01, ...,\n",
              "         1.85136534e+01, 4.95896162e-03, 6.66666667e-01]]),\n",
              " 'fused_features_nonembeddings': array([[-6.64799927e+02,  6.41520615e+01,  2.44770584e+01, ...,\n",
              "          4.34754092e+01,  2.21980899e-03,  6.66666667e-01],\n",
              "        [-5.23537537e+02,  5.68009987e+01,  8.19234943e+00, ...,\n",
              "          1.41649555e+01,  3.07551655e-03,  6.66666667e-01],\n",
              "        [-7.08825439e+02,  6.40723877e+01,  2.21730251e+01, ...,\n",
              "          1.27592836e+02,  8.16644460e-04,  6.66666667e-01],\n",
              "        ...,\n",
              "        [-3.85160950e+02,  5.79414330e+01, -8.74945000e-02, ...,\n",
              "          1.79945376e+01,  9.85345989e-03,  6.66666667e-01],\n",
              "        [-4.23848694e+02,  6.67486343e+01,  1.10433877e+00, ...,\n",
              "          2.41517908e+01,  6.63613062e-03,  6.66666667e-01],\n",
              "        [-4.10806213e+02,  4.21778603e+01,  4.07568407e+00, ...,\n",
              "          1.85136534e+01,  4.95896162e-03,  6.66666667e-01]]),\n",
              " 'fused_features_audio': array([[-4.58107529e+01, -4.82350540e+01, -4.77491531e+01, ...,\n",
              "          4.34754092e+01,  2.21980899e-03,  6.66666667e-01],\n",
              "        [-4.68551407e+01, -5.28933678e+01, -5.44628296e+01, ...,\n",
              "          1.41649555e+01,  3.07551655e-03,  6.66666667e-01],\n",
              "        [-4.37461815e+01, -4.96226578e+01, -4.81142044e+01, ...,\n",
              "          1.27592836e+02,  8.16644460e-04,  6.66666667e-01],\n",
              "        ...,\n",
              "        [-3.70954742e+01, -5.20059471e+01, -6.09228783e+01, ...,\n",
              "          1.79945376e+01,  9.85345989e-03,  6.66666667e-01],\n",
              "        [-3.23227654e+01, -4.77350349e+01, -5.94933891e+01, ...,\n",
              "          2.41517908e+01,  6.63613062e-03,  6.66666667e-01],\n",
              "        [-3.54546967e+01, -4.86076164e+01, -6.19817390e+01, ...,\n",
              "          1.85136534e+01,  4.95896162e-03,  6.66666667e-01]]),\n",
              " 'fused_features_all': array([[-4.58107529e+01, -4.82350540e+01, -4.77491531e+01, ...,\n",
              "          4.34754092e+01,  2.21980899e-03,  6.66666667e-01],\n",
              "        [-4.68551407e+01, -5.28933678e+01, -5.44628296e+01, ...,\n",
              "          1.41649555e+01,  3.07551655e-03,  6.66666667e-01],\n",
              "        [-4.37461815e+01, -4.96226578e+01, -4.81142044e+01, ...,\n",
              "          1.27592836e+02,  8.16644460e-04,  6.66666667e-01],\n",
              "        ...,\n",
              "        [-3.70954742e+01, -5.20059471e+01, -6.09228783e+01, ...,\n",
              "          1.79945376e+01,  9.85345989e-03,  6.66666667e-01],\n",
              "        [-3.23227654e+01, -4.77350349e+01, -5.94933891e+01, ...,\n",
              "          2.41517908e+01,  6.63613062e-03,  6.66666667e-01],\n",
              "        [-3.54546967e+01, -4.86076164e+01, -6.19817390e+01, ...,\n",
              "          1.85136534e+01,  4.95896162e-03,  6.66666667e-01]])}"
            ]
          },
          "metadata": {},
          "execution_count": 5
        }
      ]
    },
    {
      "cell_type": "code",
      "source": [
        "wav2vec_embeddings = features_dict[\"wav2vec_embeddings\"]\n",
        "hubert_embeddings = features_dict[\"hubert_embeddings\"]\n",
        "text_embeddings = features_dict[\"text_embeddings\"]\n",
        "mfccs = features_dict[\"mfccs\"]\n",
        "chroma = features_dict[\"chroma\"]\n",
        "other_audio = features_dict[\"other_audio\"]\n",
        "fused_features_nonembeddings = features_dict[\"fused_features_nonembeddings\"]\n",
        "fused_features_audio = features_dict[\"fused_features_audio\"]\n",
        "fused_features_all = features_dict[\"fused_features_all\"]"
      ],
      "metadata": {
        "id": "AsgZwdiGZD3R"
      },
      "execution_count": null,
      "outputs": []
    },
    {
      "cell_type": "code",
      "source": [
        "print(\"wav2vec:\", wav2vec_embeddings.shape, type(wav2vec_embeddings))\n",
        "print(\"hubert:\", hubert_embeddings.shape, type(hubert_embeddings))\n",
        "print(\"text:\", text_embeddings.shape, type(text_embeddings))\n",
        "print(\"mfccs:\", mfccs.shape, type(mfccs))\n",
        "print(\"chroma:\", chroma.shape, type(chroma))\n",
        "print(\"other:\", other_audio.shape, type(other_audio))\n",
        "\n",
        "# Fused features\n",
        "print(\"fused nonembeddings:\", fused_features_nonembeddings.shape, type(fused_features_nonembeddings))\n",
        "print(\"fused audio:\", fused_features_audio.shape, type(fused_features_audio))\n",
        "print(\"fused all:\", fused_features_all.shape, type(fused_features_all))"
      ],
      "metadata": {
        "colab": {
          "base_uri": "https://localhost:8080/"
        },
        "id": "JeruS7mrdp2f",
        "outputId": "c68f361d-824b-4e0d-c4f1-40294d1bcea4"
      },
      "execution_count": null,
      "outputs": [
        {
          "output_type": "stream",
          "name": "stdout",
          "text": [
            "wav2vec: (8480, 768) <class 'numpy.ndarray'>\n",
            "hubert: (8480, 768) <class 'numpy.ndarray'>\n",
            "text: (8480, 768) <class 'numpy.ndarray'>\n",
            "mfccs: (8480, 40) <class 'numpy.ndarray'>\n",
            "chroma: (8480, 12) <class 'numpy.ndarray'>\n",
            "other: (8480, 8) <class 'numpy.ndarray'>\n",
            "fused nonembeddings: (8480, 60) <class 'numpy.ndarray'>\n",
            "fused audio: (8480, 1596) <class 'numpy.ndarray'>\n",
            "fused all: (8480, 2364) <class 'numpy.ndarray'>\n"
          ]
        }
      ]
    },
    {
      "cell_type": "markdown",
      "source": [
        "#### Prepare dependent variable (emotion)"
      ],
      "metadata": {
        "id": "cNnd8Eke0bt-"
      }
    },
    {
      "cell_type": "code",
      "source": [
        "# Helper function to print class distribution\n",
        "def print_class_distribution(y_data, emotion_names, split_name=\"\"):\n",
        "    \"\"\"Print the distribution of classes in a dataset\"\"\"\n",
        "    if len(y_data.shape) > 1:  # If one-hot encoded\n",
        "        # Convert from one-hot to class indices\n",
        "        class_counts = np.sum(y_data, axis=0)\n",
        "        class_percentage = class_counts / len(y_data) * 100\n",
        "    else:  # If already class indices\n",
        "        unique, counts = np.unique(y_data, return_counts=True)\n",
        "        class_counts = counts\n",
        "        class_percentage = counts / len(y_data) * 100\n",
        "\n",
        "    print(f\"\\n{split_name} Class Distribution:\")\n",
        "    print(\"-\" * 40)\n",
        "    print(f\"{'Emotion':<15} {'Count':<10} {'Percentage':<10}\")\n",
        "    print(\"-\" * 40)\n",
        "\n",
        "    for i, emotion in enumerate(emotion_names):\n",
        "        print(f\"{emotion:<15} {int(class_counts[i]):<10} {class_percentage[i]:.2f}%\")\n",
        "\n",
        "    print(\"-\" * 40)\n",
        "    print(f\"Total samples: {len(y_data)}\")\n",
        "\n",
        "# Prepare target variable (emotions)\n",
        "def prepare_target(df):\n",
        "    \"\"\"Create one-hot encoded target variables\"\"\"\n",
        "    # Check if 'emotion' column exists\n",
        "    if 'emotion' not in df.columns:\n",
        "        raise ValueError(\"DataFrame does not contain 'emotion' column\")\n",
        "\n",
        "    # Get unique emotions\n",
        "    unique_emotions = sorted(df['emotion'].unique())\n",
        "    print(f\"Found {len(unique_emotions)} emotion classes: {unique_emotions}\")\n",
        "\n",
        "    # Convert to one-hot encoded format\n",
        "    emotions = pd.get_dummies(df['emotion']).to_numpy()\n",
        "    print(f\"Target shape: {emotions.shape}\")\n",
        "\n",
        "    # Check overall class distribution\n",
        "    print_class_distribution(emotions, unique_emotions, \"Overall Dataset\")\n",
        "\n",
        "    return emotions, unique_emotions"
      ],
      "metadata": {
        "id": "CMfhhKmSXbPj"
      },
      "execution_count": null,
      "outputs": []
    },
    {
      "cell_type": "code",
      "source": [
        "    # Prepare target variable\n",
        "    targets, emotion_names = prepare_target(features_df)"
      ],
      "metadata": {
        "colab": {
          "base_uri": "https://localhost:8080/"
        },
        "id": "k3AZ4EjLXeHB",
        "outputId": "7f8b293a-7925-4299-9f43-de2c16a64ca6"
      },
      "execution_count": null,
      "outputs": [
        {
          "output_type": "stream",
          "name": "stdout",
          "text": [
            "Found 7 emotion classes: ['angry', 'disgust', 'fearful', 'happy', 'neutral', 'sad', 'surprised']\n",
            "Target shape: (8480, 7)\n",
            "\n",
            "Overall Dataset Class Distribution:\n",
            "----------------------------------------\n",
            "Emotion         Count      Percentage\n",
            "----------------------------------------\n",
            "angry           1184       13.96%\n",
            "disgust         1184       13.96%\n",
            "fearful         1184       13.96%\n",
            "happy           1184       13.96%\n",
            "neutral         1376       16.23%\n",
            "sad             1184       13.96%\n",
            "surprised       1184       13.96%\n",
            "----------------------------------------\n",
            "Total samples: 8480\n"
          ]
        }
      ]
    },
    {
      "cell_type": "code",
      "source": [
        "targets.shape, emotion_names"
      ],
      "metadata": {
        "colab": {
          "base_uri": "https://localhost:8080/"
        },
        "id": "5OiY6SwiZX-I",
        "outputId": "204fbf67-79b6-41db-82d5-764761947b6c"
      },
      "execution_count": null,
      "outputs": [
        {
          "output_type": "execute_result",
          "data": {
            "text/plain": [
              "((8480, 7),\n",
              " ['angry', 'disgust', 'fearful', 'happy', 'neutral', 'sad', 'surprised'])"
            ]
          },
          "metadata": {},
          "execution_count": 10
        }
      ]
    },
    {
      "cell_type": "markdown",
      "source": [
        "## **Step 7:** Define and train models"
      ],
      "metadata": {
        "id": "yr2wP-jc3Nsn"
      }
    },
    {
      "cell_type": "markdown",
      "source": [
        "### wav2vec embeddings only"
      ],
      "metadata": {
        "id": "6ueV6KqzU6gn"
      }
    },
    {
      "cell_type": "code",
      "source": [
        "from sklearn.model_selection import GroupShuffleSplit\n",
        "from sklearn.preprocessing import StandardScaler\n",
        "import numpy as np\n",
        "import hashlib\n",
        "\n",
        "# Function to create group IDs based on text embeddings\n",
        "def create_text_id_groups(text_embeddings):\n",
        "    \"\"\"Create group IDs based on text embeddings\"\"\"\n",
        "\n",
        "    # Convert each embedding to a bytes representation and hash it\n",
        "    text_ids = []\n",
        "    hash_to_id = {}\n",
        "    id_counter = 0\n",
        "\n",
        "    for embedding in text_embeddings:\n",
        "        # Convert to bytes and hash\n",
        "        embedding_bytes = embedding.tobytes()\n",
        "        hash_id = hashlib.md5(embedding_bytes).hexdigest()\n",
        "\n",
        "        if hash_id not in hash_to_id:\n",
        "            hash_to_id[hash_id] = id_counter\n",
        "            id_counter += 1\n",
        "\n",
        "        text_ids.append(hash_to_id[hash_id])\n",
        "\n",
        "    return np.array(text_ids)\n",
        "\n",
        "# Create group IDs based on text embeddings\n",
        "text_ids = create_text_id_groups(text_embeddings)\n",
        "\n",
        "# Use GroupShuffleSplit to ensure the same text content stays in the same split\n",
        "group_split = GroupShuffleSplit(n_splits=1, test_size=0.2, random_state=42)\n",
        "train_idx, test_idx = next(group_split.split(wav2vec_embeddings, targets, groups=text_ids))\n",
        "\n",
        "# Use the indices to create train and test sets\n",
        "X_train = wav2vec_embeddings[train_idx]\n",
        "X_test = wav2vec_embeddings[test_idx]\n",
        "y_train = targets[train_idx]\n",
        "y_test = targets[test_idx]\n",
        "\n",
        "# Now scale the features - important to fit only on training data\n",
        "scaler = StandardScaler()\n",
        "X_train_scaled = scaler.fit_transform(X_train)\n",
        "X_test_scaled = scaler.transform(X_test)\n",
        "\n",
        "print(f\"Training set: {X_train_scaled.shape}, Test set: {X_test_scaled.shape}\")\n",
        "\n",
        "# Verify that our splits maintained the group integrity\n",
        "train_groups = set(text_ids[train_idx])\n",
        "test_groups = set(text_ids[test_idx])\n",
        "overlap = train_groups.intersection(test_groups)\n",
        "print(f\"Number of text groups in train: {len(train_groups)}\")\n",
        "print(f\"Number of text groups in test: {len(test_groups)}\")\n",
        "print(f\"Number of overlapping groups: {len(overlap)}\")"
      ],
      "metadata": {
        "colab": {
          "base_uri": "https://localhost:8080/"
        },
        "id": "9AHgw7wgPesS",
        "outputId": "0b98080f-11dc-4f77-84c4-1cb412f66ced"
      },
      "execution_count": null,
      "outputs": [
        {
          "output_type": "stream",
          "name": "stdout",
          "text": [
            "Training set: (7400, 768), Test set: (1080, 768)\n",
            "Number of text groups in train: 836\n",
            "Number of text groups in test: 209\n",
            "Number of overlapping groups: 0\n"
          ]
        }
      ]
    },
    {
      "cell_type": "code",
      "source": [
        "  # Print class distribution for both splits\n",
        "  print_class_distribution(y_train, emotion_names, \"Training Set\")\n",
        "  print_class_distribution(y_test, emotion_names, \"Test Set\")"
      ],
      "metadata": {
        "colab": {
          "base_uri": "https://localhost:8080/"
        },
        "id": "StS3ZIPaa8NJ",
        "outputId": "f34e33fc-7378-4256-b4cd-91f2f4893ad6"
      },
      "execution_count": null,
      "outputs": [
        {
          "output_type": "stream",
          "name": "stdout",
          "text": [
            "\n",
            "Training Set Class Distribution:\n",
            "----------------------------------------\n",
            "Emotion         Count      Percentage\n",
            "----------------------------------------\n",
            "angry           1028       13.89%\n",
            "disgust         1046       14.14%\n",
            "fearful         1018       13.76%\n",
            "happy           1046       14.14%\n",
            "neutral         1208       16.32%\n",
            "sad             1022       13.81%\n",
            "surprised       1032       13.95%\n",
            "----------------------------------------\n",
            "Total samples: 7400\n",
            "\n",
            "Test Set Class Distribution:\n",
            "----------------------------------------\n",
            "Emotion         Count      Percentage\n",
            "----------------------------------------\n",
            "angry           156        14.44%\n",
            "disgust         138        12.78%\n",
            "fearful         166        15.37%\n",
            "happy           138        12.78%\n",
            "neutral         168        15.56%\n",
            "sad             162        15.00%\n",
            "surprised       152        14.07%\n",
            "----------------------------------------\n",
            "Total samples: 1080\n"
          ]
        }
      ]
    },
    {
      "cell_type": "code",
      "source": [
        "K.clear_session()\n",
        "\n",
        "# Build model\n",
        "input_layer = Input(shape=(X_train.shape[1],), name=\"input\")\n",
        "x = Dense(256, activation=\"relu\", kernel_regularizer=l2(0.0001))(input_layer)\n",
        "x = Dense(128, activation=\"relu\", kernel_regularizer=l2(0.0001))(x)\n",
        "output = Dense(len(emotion_names), activation=\"softmax\", kernel_regularizer=l2(0.0001))(x)\n",
        "\n",
        "model = Model(inputs=input_layer, outputs=output)\n",
        "\n",
        "# Compile model\n",
        "model.compile(optimizer=\"adam\", loss=\"categorical_crossentropy\", metrics=[\"accuracy\"])\n",
        "\n",
        "# Print model summary\n",
        "model.summary()"
      ],
      "metadata": {
        "colab": {
          "base_uri": "https://localhost:8080/",
          "height": 259
        },
        "id": "xebyoiQ-3UIt",
        "outputId": "a6b2c258-b119-4e8a-d481-70135384fca7"
      },
      "execution_count": null,
      "outputs": [
        {
          "output_type": "display_data",
          "data": {
            "text/plain": [
              "\u001b[1mModel: \"functional\"\u001b[0m\n"
            ],
            "text/html": [
              "<pre style=\"white-space:pre;overflow-x:auto;line-height:normal;font-family:Menlo,'DejaVu Sans Mono',consolas,'Courier New',monospace\"><span style=\"font-weight: bold\">Model: \"functional\"</span>\n",
              "</pre>\n"
            ]
          },
          "metadata": {}
        },
        {
          "output_type": "display_data",
          "data": {
            "text/plain": [
              "┏━━━━━━━━━━━━━━━━━━━━━━━━━━━━━━━━━━━━━━┳━━━━━━━━━━━━━━━━━━━━━━━━━━━━━┳━━━━━━━━━━━━━━━━━┓\n",
              "┃\u001b[1m \u001b[0m\u001b[1mLayer (type)                        \u001b[0m\u001b[1m \u001b[0m┃\u001b[1m \u001b[0m\u001b[1mOutput Shape               \u001b[0m\u001b[1m \u001b[0m┃\u001b[1m \u001b[0m\u001b[1m        Param #\u001b[0m\u001b[1m \u001b[0m┃\n",
              "┡━━━━━━━━━━━━━━━━━━━━━━━━━━━━━━━━━━━━━━╇━━━━━━━━━━━━━━━━━━━━━━━━━━━━━╇━━━━━━━━━━━━━━━━━┩\n",
              "│ input (\u001b[38;5;33mInputLayer\u001b[0m)                   │ (\u001b[38;5;45mNone\u001b[0m, \u001b[38;5;34m768\u001b[0m)                 │               \u001b[38;5;34m0\u001b[0m │\n",
              "├──────────────────────────────────────┼─────────────────────────────┼─────────────────┤\n",
              "│ dense (\u001b[38;5;33mDense\u001b[0m)                        │ (\u001b[38;5;45mNone\u001b[0m, \u001b[38;5;34m256\u001b[0m)                 │         \u001b[38;5;34m196,864\u001b[0m │\n",
              "├──────────────────────────────────────┼─────────────────────────────┼─────────────────┤\n",
              "│ dense_1 (\u001b[38;5;33mDense\u001b[0m)                      │ (\u001b[38;5;45mNone\u001b[0m, \u001b[38;5;34m128\u001b[0m)                 │          \u001b[38;5;34m32,896\u001b[0m │\n",
              "├──────────────────────────────────────┼─────────────────────────────┼─────────────────┤\n",
              "│ dense_2 (\u001b[38;5;33mDense\u001b[0m)                      │ (\u001b[38;5;45mNone\u001b[0m, \u001b[38;5;34m7\u001b[0m)                   │             \u001b[38;5;34m903\u001b[0m │\n",
              "└──────────────────────────────────────┴─────────────────────────────┴─────────────────┘\n"
            ],
            "text/html": [
              "<pre style=\"white-space:pre;overflow-x:auto;line-height:normal;font-family:Menlo,'DejaVu Sans Mono',consolas,'Courier New',monospace\">┏━━━━━━━━━━━━━━━━━━━━━━━━━━━━━━━━━━━━━━┳━━━━━━━━━━━━━━━━━━━━━━━━━━━━━┳━━━━━━━━━━━━━━━━━┓\n",
              "┃<span style=\"font-weight: bold\"> Layer (type)                         </span>┃<span style=\"font-weight: bold\"> Output Shape                </span>┃<span style=\"font-weight: bold\">         Param # </span>┃\n",
              "┡━━━━━━━━━━━━━━━━━━━━━━━━━━━━━━━━━━━━━━╇━━━━━━━━━━━━━━━━━━━━━━━━━━━━━╇━━━━━━━━━━━━━━━━━┩\n",
              "│ input (<span style=\"color: #0087ff; text-decoration-color: #0087ff\">InputLayer</span>)                   │ (<span style=\"color: #00d7ff; text-decoration-color: #00d7ff\">None</span>, <span style=\"color: #00af00; text-decoration-color: #00af00\">768</span>)                 │               <span style=\"color: #00af00; text-decoration-color: #00af00\">0</span> │\n",
              "├──────────────────────────────────────┼─────────────────────────────┼─────────────────┤\n",
              "│ dense (<span style=\"color: #0087ff; text-decoration-color: #0087ff\">Dense</span>)                        │ (<span style=\"color: #00d7ff; text-decoration-color: #00d7ff\">None</span>, <span style=\"color: #00af00; text-decoration-color: #00af00\">256</span>)                 │         <span style=\"color: #00af00; text-decoration-color: #00af00\">196,864</span> │\n",
              "├──────────────────────────────────────┼─────────────────────────────┼─────────────────┤\n",
              "│ dense_1 (<span style=\"color: #0087ff; text-decoration-color: #0087ff\">Dense</span>)                      │ (<span style=\"color: #00d7ff; text-decoration-color: #00d7ff\">None</span>, <span style=\"color: #00af00; text-decoration-color: #00af00\">128</span>)                 │          <span style=\"color: #00af00; text-decoration-color: #00af00\">32,896</span> │\n",
              "├──────────────────────────────────────┼─────────────────────────────┼─────────────────┤\n",
              "│ dense_2 (<span style=\"color: #0087ff; text-decoration-color: #0087ff\">Dense</span>)                      │ (<span style=\"color: #00d7ff; text-decoration-color: #00d7ff\">None</span>, <span style=\"color: #00af00; text-decoration-color: #00af00\">7</span>)                   │             <span style=\"color: #00af00; text-decoration-color: #00af00\">903</span> │\n",
              "└──────────────────────────────────────┴─────────────────────────────┴─────────────────┘\n",
              "</pre>\n"
            ]
          },
          "metadata": {}
        },
        {
          "output_type": "display_data",
          "data": {
            "text/plain": [
              "\u001b[1m Total params: \u001b[0m\u001b[38;5;34m230,663\u001b[0m (901.03 KB)\n"
            ],
            "text/html": [
              "<pre style=\"white-space:pre;overflow-x:auto;line-height:normal;font-family:Menlo,'DejaVu Sans Mono',consolas,'Courier New',monospace\"><span style=\"font-weight: bold\"> Total params: </span><span style=\"color: #00af00; text-decoration-color: #00af00\">230,663</span> (901.03 KB)\n",
              "</pre>\n"
            ]
          },
          "metadata": {}
        },
        {
          "output_type": "display_data",
          "data": {
            "text/plain": [
              "\u001b[1m Trainable params: \u001b[0m\u001b[38;5;34m230,663\u001b[0m (901.03 KB)\n"
            ],
            "text/html": [
              "<pre style=\"white-space:pre;overflow-x:auto;line-height:normal;font-family:Menlo,'DejaVu Sans Mono',consolas,'Courier New',monospace\"><span style=\"font-weight: bold\"> Trainable params: </span><span style=\"color: #00af00; text-decoration-color: #00af00\">230,663</span> (901.03 KB)\n",
              "</pre>\n"
            ]
          },
          "metadata": {}
        },
        {
          "output_type": "display_data",
          "data": {
            "text/plain": [
              "\u001b[1m Non-trainable params: \u001b[0m\u001b[38;5;34m0\u001b[0m (0.00 B)\n"
            ],
            "text/html": [
              "<pre style=\"white-space:pre;overflow-x:auto;line-height:normal;font-family:Menlo,'DejaVu Sans Mono',consolas,'Courier New',monospace\"><span style=\"font-weight: bold\"> Non-trainable params: </span><span style=\"color: #00af00; text-decoration-color: #00af00\">0</span> (0.00 B)\n",
              "</pre>\n"
            ]
          },
          "metadata": {}
        }
      ]
    },
    {
      "cell_type": "code",
      "source": [
        "keras.utils.plot_model(model, show_shapes=True, rankdir=\"LR\")"
      ],
      "metadata": {
        "colab": {
          "base_uri": "https://localhost:8080/",
          "height": 120
        },
        "id": "HDgaVXC_9_d5",
        "outputId": "076379b1-f238-462a-aafc-179a2fe8745a"
      },
      "execution_count": null,
      "outputs": [
        {
          "output_type": "execute_result",
          "data": {
            "image/png": "[encoded data removed]",
            "text/plain": [
              "<IPython.core.display.Image object>"
            ]
          },
          "metadata": {},
          "execution_count": 28
        }
      ]
    },
    {
      "cell_type": "markdown",
      "source": [
        "#### Implement overfitting prevention measures and train model"
      ],
      "metadata": {
        "id": "ljvGlsHi3fpU"
      }
    },
    {
      "cell_type": "code",
      "source": [
        "# Define callbacks\n",
        "early_stopping = EarlyStopping(\n",
        "    monitor=\"val_loss\",  # Monitor validation loss\n",
        "    patience=5,          # Stop training if val_loss does not improve for 5 epochs\n",
        "    restore_best_weights=True  # Restore the best model weights\n",
        ")\n",
        "\n",
        "reduce_lr = ReduceLROnPlateau(\n",
        "    monitor=\"val_loss\",   # Reduce learning rate when val_loss stops improving\n",
        "    factor=0.5,           # Reduce LR by half\n",
        "    patience=3,           # Wait 3 epochs before reducing LR\n",
        "    min_lr=1e-6           # Set a minimum learning rate\n",
        ")\n",
        "\n",
        "# Train the model with callbacks\n",
        "history = model.fit(\n",
        "    x=X_train_scaled,\n",
        "    y=y_train,\n",
        "    epochs=100,\n",
        "    batch_size=32,\n",
        "    validation_data=(X_test_scaled, y_test),\n",
        "    callbacks=[early_stopping, reduce_lr]\n",
        ")"
      ],
      "metadata": {
        "colab": {
          "base_uri": "https://localhost:8080/"
        },
        "id": "7kiXH5pa-IDk",
        "outputId": "65079aa4-2af1-4672-e1ab-7681ed491458"
      },
      "execution_count": null,
      "outputs": [
        {
          "output_type": "stream",
          "name": "stdout",
          "text": [
            "Epoch 1/100\n",
            "\u001b[1m232/232\u001b[0m \u001b[32m━━━━━━━━━━━━━━━━━━━━\u001b[0m\u001b[37m\u001b[0m \u001b[1m5s\u001b[0m 13ms/step - accuracy: 0.6782 - loss: 0.9462 - val_accuracy: 0.8981 - val_loss: 0.2938 - learning_rate: 0.0010\n",
            "Epoch 2/100\n",
            "\u001b[1m232/232\u001b[0m \u001b[32m━━━━━━━━━━━━━━━━━━━━\u001b[0m\u001b[37m\u001b[0m \u001b[1m1s\u001b[0m 3ms/step - accuracy: 0.8398 - loss: 0.4653 - val_accuracy: 0.9130 - val_loss: 0.2691 - learning_rate: 0.0010\n",
            "Epoch 3/100\n",
            "\u001b[1m232/232\u001b[0m \u001b[32m━━━━━━━━━━━━━━━━━━━━\u001b[0m\u001b[37m\u001b[0m \u001b[1m1s\u001b[0m 3ms/step - accuracy: 0.8853 - loss: 0.3506 - val_accuracy: 0.9259 - val_loss: 0.2689 - learning_rate: 0.0010\n",
            "Epoch 4/100\n",
            "\u001b[1m232/232\u001b[0m \u001b[32m━━━━━━━━━━━━━━━━━━━━\u001b[0m\u001b[37m\u001b[0m \u001b[1m1s\u001b[0m 3ms/step - accuracy: 0.9095 - loss: 0.3028 - val_accuracy: 0.9241 - val_loss: 0.2652 - learning_rate: 0.0010\n",
            "Epoch 5/100\n",
            "\u001b[1m232/232\u001b[0m \u001b[32m━━━━━━━━━━━━━━━━━━━━\u001b[0m\u001b[37m\u001b[0m \u001b[1m1s\u001b[0m 3ms/step - accuracy: 0.9464 - loss: 0.2078 - val_accuracy: 0.9389 - val_loss: 0.2610 - learning_rate: 0.0010\n",
            "Epoch 6/100\n",
            "\u001b[1m232/232\u001b[0m \u001b[32m━━━━━━━━━━━━━━━━━━━━\u001b[0m\u001b[37m\u001b[0m \u001b[1m1s\u001b[0m 3ms/step - accuracy: 0.9495 - loss: 0.1897 - val_accuracy: 0.9426 - val_loss: 0.3021 - learning_rate: 0.0010\n",
            "Epoch 7/100\n",
            "\u001b[1m232/232\u001b[0m \u001b[32m━━━━━━━━━━━━━━━━━━━━\u001b[0m\u001b[37m\u001b[0m \u001b[1m1s\u001b[0m 3ms/step - accuracy: 0.9503 - loss: 0.2002 - val_accuracy: 0.9315 - val_loss: 0.3289 - learning_rate: 0.0010\n",
            "Epoch 8/100\n",
            "\u001b[1m232/232\u001b[0m \u001b[32m━━━━━━━━━━━━━━━━━━━━\u001b[0m\u001b[37m\u001b[0m \u001b[1m1s\u001b[0m 3ms/step - accuracy: 0.9702 - loss: 0.1454 - val_accuracy: 0.9352 - val_loss: 0.3078 - learning_rate: 0.0010\n",
            "Epoch 9/100\n",
            "\u001b[1m232/232\u001b[0m \u001b[32m━━━━━━━━━━━━━━━━━━━━\u001b[0m\u001b[37m\u001b[0m \u001b[1m1s\u001b[0m 3ms/step - accuracy: 0.9891 - loss: 0.0964 - val_accuracy: 0.9481 - val_loss: 0.2639 - learning_rate: 5.0000e-04\n",
            "Epoch 10/100\n",
            "\u001b[1m232/232\u001b[0m \u001b[32m━━━━━━━━━━━━━━━━━━━━\u001b[0m\u001b[37m\u001b[0m \u001b[1m1s\u001b[0m 3ms/step - accuracy: 0.9968 - loss: 0.0737 - val_accuracy: 0.9500 - val_loss: 0.2792 - learning_rate: 5.0000e-04\n"
          ]
        }
      ]
    },
    {
      "cell_type": "code",
      "source": [
        "    # Add per-epoch accuracy comparison\n",
        "    train_acc = history.history['accuracy']\n",
        "    val_acc = history.history['val_accuracy']\n",
        "\n",
        "    print(\"\\nAccuracy by Epoch:\")\n",
        "    print(\"-\" * 50)\n",
        "    print(f\"{'Epoch':<10} {'Training Acc':<15} {'Validation Acc':<15} {'Difference':<15}\")\n",
        "    print(\"-\" * 50)\n",
        "    for i in range(len(train_acc)):\n",
        "        diff = val_acc[i] - train_acc[i]\n",
        "        print(f\"{i+1:<10} {train_acc[i]:.4f}{'':10} {val_acc[i]:.4f}{'':10} {diff:.4f} ({'Higher' if diff > 0 else 'Lower'})\")"
      ],
      "metadata": {
        "colab": {
          "base_uri": "https://localhost:8080/"
        },
        "id": "kMOrXBbfbf2y",
        "outputId": "dd5595eb-5675-4a82-ba6d-273e838900ac"
      },
      "execution_count": null,
      "outputs": [
        {
          "output_type": "stream",
          "name": "stdout",
          "text": [
            "\n",
            "Accuracy by Epoch:\n",
            "--------------------------------------------------\n",
            "Epoch      Training Acc    Validation Acc  Difference     \n",
            "--------------------------------------------------\n",
            "1          0.7643           0.8981           0.1338 (Higher)\n",
            "2          0.8476           0.9130           0.0654 (Higher)\n",
            "3          0.8934           0.9259           0.0325 (Higher)\n",
            "4          0.9127           0.9241           0.0114 (Higher)\n",
            "5          0.9376           0.9389           0.0013 (Higher)\n",
            "6          0.9501           0.9426           -0.0075 (Lower)\n",
            "7          0.9520           0.9315           -0.0205 (Lower)\n",
            "8          0.9724           0.9352           -0.0372 (Lower)\n",
            "9          0.9926           0.9481           -0.0444 (Lower)\n",
            "10         0.9959           0.9500           -0.0459 (Lower)\n"
          ]
        }
      ]
    },
    {
      "cell_type": "markdown",
      "source": [
        "#### Evaluate performance"
      ],
      "metadata": {
        "id": "k-eU0HBo3k3K"
      }
    },
    {
      "cell_type": "code",
      "source": [
        "# Evaluate on test set\n",
        "test_loss, test_acc = model.evaluate(X_test_scaled, y_test)\n",
        "print(f\"Test Accuracy: {test_acc:.4f}\")"
      ],
      "metadata": {
        "id": "gApWUE743nPc",
        "colab": {
          "base_uri": "https://localhost:8080/"
        },
        "outputId": "e99f2d50-19ca-4277-8194-a8bb415bc9c4"
      },
      "execution_count": null,
      "outputs": [
        {
          "output_type": "stream",
          "name": "stdout",
          "text": [
            "\u001b[1m34/34\u001b[0m \u001b[32m━━━━━━━━━━━━━━━━━━━━\u001b[0m\u001b[37m\u001b[0m \u001b[1m0s\u001b[0m 3ms/step - accuracy: 0.8505 - loss: 0.5671\n",
            "Test Accuracy: 0.9389\n"
          ]
        }
      ]
    },
    {
      "cell_type": "markdown",
      "source": [
        "#### Plot loss and accuracy"
      ],
      "metadata": {
        "id": "AC1FPrz43p6W"
      }
    },
    {
      "cell_type": "code",
      "source": [
        "# Plot training history\n",
        "plt.figure(figsize=(12, 5))\n",
        "\n",
        "plt.subplot(1, 2, 1)\n",
        "plt.plot(history.history['loss'], label='train')\n",
        "plt.plot(history.history['val_loss'], label='validation')\n",
        "plt.title('Fused Features Model Loss')\n",
        "plt.xlabel('Epoch')\n",
        "plt.ylabel('Loss')\n",
        "plt.legend()\n",
        "\n",
        "plt.subplot(1, 2, 2)\n",
        "plt.plot(history.history['accuracy'], label='train')\n",
        "plt.plot(history.history['val_accuracy'], label='validation')\n",
        "plt.title('Fused Features Model Accuracy')\n",
        "plt.xlabel('Epoch')\n",
        "plt.ylabel('Accuracy')\n",
        "plt.legend()\n",
        "\n",
        "plt.tight_layout()\n",
        "plt.show()"
      ],
      "metadata": {
        "colab": {
          "base_uri": "https://localhost:8080/",
          "height": 507
        },
        "id": "7tILmOg8atlQ",
        "outputId": "1082d3f2-60b0-479c-f46b-5047995706d0"
      },
      "execution_count": null,
      "outputs": [
        {
          "output_type": "display_data",
          "data": {
            "text/plain": [
              "<Figure size 1200x500 with 2 Axes>"
            ],
            "image/png": "[encoded data removed]"
          },
          "metadata": {}
        }
      ]
    }
  ]
}